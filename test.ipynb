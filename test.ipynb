{
 "cells": [
  {
   "cell_type": "code",
   "execution_count": 7,
   "metadata": {},
   "outputs": [],
   "source": [
    "from experiment import Experiment\n",
    "import numpy as np\n",
    "from agent import Agent\n",
    "from enviroment import Environment\n",
    "\n",
    "from utils import map_vote, cal_result"
   ]
  },
  {
   "cell_type": "code",
   "execution_count": null,
   "metadata": {},
   "outputs": [],
   "source": []
  },
  {
   "cell_type": "code",
   "execution_count": 8,
   "metadata": {},
   "outputs": [
    {
     "name": "stdout",
     "output_type": "stream",
     "text": [
      "##################################################\n",
      "exp_id: 0, exp_name: first_experiment\n",
      "(\"[DEBUG]-[Env]- Agent: agent_0, strategic_agent: True, preference: ['c3', \"\n",
      " \"'c4', 'c5', 'c2', 'c1']\\n\")\n",
      "[DEBUG]-[Env], votes: {'agent_0': [0, 1, 4, 3, 2], 'agent_1': [4, 3, 2, 1, 0], 'agent_2': [4, 2, 3, 1, 0], 'agent_3': [2, 3, 4, 0, 1], 'agent_4': [4, 0, 3, 1, 2]} \n",
      "\n",
      "Inital voting result Dict: {'c3': 16, 'c1': 14, 'c2': 9, 'c4': 6, 'c5': 5}\n",
      "Initial Total Happiness: 3.146\n",
      "[Debug]-[set_vote]- hap_init: 0.679\n",
      "[Debug]-[set_vote]- strategic_voted: False\n",
      "\n",
      "[Debug]-[Env]- Best vote: [0 0 4 0 0] \n",
      " Best pref: ['c3', 'c4', 'c5', 'c2', 'c1']\n",
      "[DEBUG]-[Env], votes: {'agent_0': array([0, 0, 4, 0, 0]), 'agent_1': [4, 3, 2, 1, 0], 'agent_2': [4, 2, 3, 1, 0], 'agent_3': [2, 3, 4, 0, 1], 'agent_4': [4, 0, 3, 1, 2]} \n",
      "\n",
      "Final voting result Dict: {'c3': 16, 'c1': 14, 'c2': 8, 'c4': 3, 'c5': 3}\n",
      "Fianl Total Happiness: 3.146\n"
     ]
    },
    {
     "ename": "TypeError",
     "evalue": "cannot unpack non-iterable NoneType object",
     "output_type": "error",
     "traceback": [
      "\u001b[1;31m---------------------------------------------------------------------------\u001b[0m",
      "\u001b[1;31mTypeError\u001b[0m                                 Traceback (most recent call last)",
      "Cell \u001b[1;32mIn[8], line 8\u001b[0m\n\u001b[0;32m      5\u001b[0m \u001b[38;5;66;03m# Set experiment variables\u001b[39;00m\n\u001b[0;32m      6\u001b[0m exp\u001b[38;5;241m.\u001b[39mset_exp_variables([\u001b[38;5;124m'\u001b[39m\u001b[38;5;124mc1\u001b[39m\u001b[38;5;124m'\u001b[39m,\u001b[38;5;124m'\u001b[39m\u001b[38;5;124mc2\u001b[39m\u001b[38;5;124m'\u001b[39m,\u001b[38;5;124m'\u001b[39m\u001b[38;5;124mc3\u001b[39m\u001b[38;5;124m'\u001b[39m,\u001b[38;5;124m'\u001b[39m\u001b[38;5;124mc4\u001b[39m\u001b[38;5;124m'\u001b[39m,\u001b[38;5;124m'\u001b[39m\u001b[38;5;124mc5\u001b[39m\u001b[38;5;124m'\u001b[39m], \u001b[38;5;124m'\u001b[39m\u001b[38;5;124mborda\u001b[39m\u001b[38;5;124m'\u001b[39m, \u001b[38;5;124m'\u001b[39m\u001b[38;5;124mcombination\u001b[39m\u001b[38;5;124m'\u001b[39m, \u001b[38;5;124m'\u001b[39m\u001b[38;5;124mB\u001b[39m\u001b[38;5;124m'\u001b[39m, \u001b[38;5;241m5\u001b[39m, \u001b[38;5;241m1\u001b[39m)\n\u001b[1;32m----> 8\u001b[0m init_happiness,  final_happiness \u001b[38;5;241m=\u001b[39m exp\u001b[38;5;241m.\u001b[39mrun_exp()\n",
      "\u001b[1;31mTypeError\u001b[0m: cannot unpack non-iterable NoneType object"
     ]
    }
   ],
   "source": [
    "# Create experiment\n",
    "print(\"#\"*50)\n",
    "exp = Experiment(id=0, name='first_experiment')\n",
    "\n",
    "# Set experiment variables\n",
    "exp.set_exp_variables(['c1','c2','c3','c4','c5'], 'borda', 'combination', 'B', 5, 1)\n",
    "\n",
    "# init_happiness,  final_happiness = exp.run_exp()\n",
    "exp.run_exp()"
   ]
  },
  {
   "cell_type": "code",
   "execution_count": null,
   "metadata": {},
   "outputs": [
    {
     "name": "stdout",
     "output_type": "stream",
     "text": [
      "[1, 2, 0, 3]\n"
     ]
    }
   ],
   "source": []
  },
  {
   "cell_type": "code",
   "execution_count": null,
   "metadata": {},
   "outputs": [],
   "source": []
  }
 ],
 "metadata": {
  "kernelspec": {
   "display_name": "TA_data_analysis",
   "language": "python",
   "name": "python3"
  },
  "language_info": {
   "codemirror_mode": {
    "name": "ipython",
    "version": 3
   },
   "file_extension": ".py",
   "mimetype": "text/x-python",
   "name": "python",
   "nbconvert_exporter": "python",
   "pygments_lexer": "ipython3",
   "version": "3.11.8"
  }
 },
 "nbformat": 4,
 "nbformat_minor": 2
}
