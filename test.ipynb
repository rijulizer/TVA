{
 "cells": [
  {
   "cell_type": "code",
   "execution_count": 1,
   "metadata": {},
   "outputs": [],
   "source": [
    "env_candidates=['c1','c2','c3','c4']\n",
    "p = ['c4', 'c2', 'c1', 'c3']\n"
   ]
  },
  {
   "cell_type": "code",
   "execution_count": 3,
   "metadata": {},
   "outputs": [
    {
     "ename": "TypeError",
     "evalue": "index() takes at least 1 argument (0 given)",
     "output_type": "error",
     "traceback": [
      "\u001b[0;31m---------------------------------------------------------------------------\u001b[0m",
      "\u001b[0;31mTypeError\u001b[0m                                 Traceback (most recent call last)",
      "Cell \u001b[0;32mIn[3], line 1\u001b[0m\n\u001b[0;32m----> 1\u001b[0m \u001b[43mp\u001b[49m\u001b[43m[\u001b[49m\u001b[38;5;241;43m0\u001b[39;49m\u001b[43m]\u001b[49m\u001b[38;5;241;43m.\u001b[39;49m\u001b[43mindex\u001b[49m\u001b[43m(\u001b[49m\u001b[43m)\u001b[49m\n",
      "\u001b[0;31mTypeError\u001b[0m: index() takes at least 1 argument (0 given)"
     ]
    }
   ],
   "source": [
    "p[0].index()"
   ]
  },
  {
   "cell_type": "code",
   "execution_count": 10,
   "metadata": {},
   "outputs": [
    {
     "name": "stdout",
     "output_type": "stream",
     "text": [
      "[1, 2, 0, 3]\n"
     ]
    }
   ],
   "source": [
    "env_candidates = ['c1', 'c2', 'c3', 'c4']\n",
    "p = ['c4', 'c2', 'c1', 'c3']\n",
    "\n",
    "positions = [len(env_candidates)-p.index(c)-1 for c in env_candidates]\n",
    "print(positions)\n"
   ]
  },
  {
   "cell_type": "code",
   "execution_count": 2,
   "metadata": {},
   "outputs": [],
   "source": [
    "import randomname\n"
   ]
  },
  {
   "cell_type": "code",
   "execution_count": 5,
   "metadata": {},
   "outputs": [
    {
     "data": {
      "text/plain": [
       "'obliging-jar'"
      ]
     },
     "execution_count": 5,
     "metadata": {},
     "output_type": "execute_result"
    }
   ],
   "source": [
    "randomname.get_name()"
   ]
  },
  {
   "cell_type": "code",
   "execution_count": 8,
   "metadata": {},
   "outputs": [
    {
     "name": "stdout",
     "output_type": "stream",
     "text": [
      "[0, 0]\n"
     ]
    }
   ],
   "source": [
    "# [0,1,2,3,4,5] //2 = [0,0,1,1,2,2]\n",
    "\n",
    "n=2\n",
    "gaps = []\n",
    "for i in range(n):\n",
    "    gaps.append(1+(i//2)\n",
    "print(gaps)"
   ]
  },
  {
   "cell_type": "code",
   "execution_count": 27,
   "metadata": {},
   "outputs": [
    {
     "name": "stdout",
     "output_type": "stream",
     "text": [
      "[0] 0\n",
      "[1] 2\n",
      "[0, 2] 4\n",
      "[1, 3] 8\n",
      "[0, 2, 4] 12\n",
      "[1, 3, 5] 18\n",
      "[0, 2, 4, 6] 24\n",
      "[1, 3, 5, 7] 32\n",
      "[0, 2, 4, 6, 8] 40\n",
      "[1, 3, 5, 7, 9] 50\n",
      "number of candidates: [1, 2, 3, 4, 5, 6, 7, 8, 9, 10] \n",
      "maximum_distances: [0, 2, 4, 8, 12, 18, 24, 32, 40, 50]\n"
     ]
    }
   ],
   "source": [
    "def max_disatance_sum(num_candidates: int):\n",
    "    \"\"\"Calculates the mximum sum of distances for a specific number of canidates.\n",
    "    It presumes the distance becomes maximum when the two lists are completely inversed. \n",
    "\n",
    "    Args:\n",
    "        num_candidates (int): the number of candidates in result and preference\n",
    "    \"\"\"\n",
    "\n",
    "    n = num_candidates-1\n",
    "    dist = []\n",
    "    dist_sum = 0\n",
    "    if n%2==0:\n",
    "        # if n is even\n",
    "        # the distance lists are - \n",
    "        # [0], [2,0,2], [4,2,0,2,4]\n",
    "        for i in range(0,n+2,2):\n",
    "            dist.append(i)\n",
    "            dist_sum +=i\n",
    "    # print(dist,dist_sum)\n",
    "    else:\n",
    "        # if n is odd\n",
    "        # [1,1], [3,1,1,3], [5,3,1,1,3,5]\n",
    "\n",
    "        for i in range(1,n+2,2):\n",
    "            dist.append(i)\n",
    "            dist_sum +=i\n",
    "    \n",
    "    # the number repeats twice\n",
    "    dist_sum*=2\n",
    "    print(dist,dist_sum)\n",
    "    return dist_sum\n",
    "\n",
    "# Test sum of distances\n",
    "num_candidates = [1,2,3,4,5,6,7,8,9,10]\n",
    "dist_sums = [max_disatance_sum(i) for i in num_candidates]\n",
    "print(f\"number of candidates: {num_candidates} \\nmaximum_distances: {dist_sums}\")\n"
   ]
  },
  {
   "cell_type": "code",
   "execution_count": 34,
   "metadata": {},
   "outputs": [
    {
     "data": {
      "text/plain": [
       "array([2.        , 1.33333333, 0.66666667, 0.        ])"
      ]
     },
     "execution_count": 34,
     "metadata": {},
     "output_type": "execute_result"
    }
   ],
   "source": [
    "import numpy as np\n",
    "env_result = ['c1', 'c2', 'c3', 'c4']\n",
    "alpha = np.array([i for i in range(len(env_result)-1,-1,-1)])\n",
    "alpha = alpha * len(env_result) / np.sum(alpha)\n",
    "alpha"
   ]
  },
  {
   "cell_type": "code",
   "execution_count": null,
   "metadata": {},
   "outputs": [],
   "source": []
  },
  {
   "cell_type": "code",
   "execution_count": 6,
   "metadata": {},
   "outputs": [
    {
     "data": {
      "text/plain": [
       "_StoreAction(option_strings=['--num_strat_agents'], dest='num_strat_agents', nargs=None, const=None, default=1, type=None, choices=None, required=False, help='Number of strategic agents  (default: 1)', metavar=None)"
      ]
     },
     "execution_count": 6,
     "metadata": {},
     "output_type": "execute_result"
    }
   ],
   "source": [
    "if __name__ == \"__main__\":\n",
    "    \n",
    "    parser = argparse.ArgumentParser(description=\"Creates a single voting environment with agents doing voting for candidates\"\n",
    "                                    )\n",
    "    parser.add_argument(\"--candidates\",\n",
    "                        dest='env_candidates',\n",
    "                        default=['c1','c2','c3','c4'],\n",
    "                        nargs='+',\n",
    "                        type=str,\n",
    "                        help=\"List of canidates to vote for (default: ['c1','c2','c3','c4'])\"\n",
    "                        )\n",
    "\n",
    "    parser.add_argument(\"--scheme\",\n",
    "                        dest='env_vote_scheme',\n",
    "                        default=\"borda\",\n",
    "                        choices=[\"plurality\", \"anti_plurality\", \"voting_for_two\",\"borda\"],\n",
    "                        help=\"Voting scheme used for counting votes (default: borda)\",\n",
    "                        )\n",
    "\n",
    "    parser.add_argument(\"--strategy\",\n",
    "                        dest='agent_vote_strategy',\n",
    "                        default=\"compromising\",\n",
    "                        choices=['compromising', 'bullet_voting', 'combination'],\n",
    "                        help=\"Strategy used by agent to manipulate vote (default: compromising)\")\n",
    "    \n",
    "    parser.add_argument(\"--hppiness_type\",\n",
    "                        dest='happiness_type',\n",
    "                        default=\"A\",\n",
    "                        choices=['A', 'B', 'C'],\n",
    "                        help=\"Types of happiness function (default: A)\")\n",
    "\n",
    "    parser.add_argument(\"--num_agents\",\n",
    "                        dest='num_agents',\n",
    "                        default=5,\n",
    "                        type=int,\n",
    "                        help=\"Total number of agents including strategic agents  (default: 5)\")\n",
    "\n",
    "    parser.add_argument(\"--num_strat_agents\",\n",
    "                        dest='num_strat_agents',\n",
    "                        default=1,\n",
    "                        type=int,\n",
    "                        help=\"Number of strategic agents  (default: 1)\")\n",
    "\n",
    "    args = parser.parse_args()\n",
    "\n",
    "    env_candidates = args.env_candidates\n",
    "    env_vote_scheme = args.env_vote_scheme\n",
    "    agent_vote_strategy = args.agent_vote_strategy\n",
    "    happiness_type = args.happiness_type\n",
    "    num_agents = args.num_agents\n",
    "    num_strat_agents = args.num_strat_agents\n",
    "    print(\"#\"*100)\n",
    "    print(\"#\"*100)\n",
    "    print(f\"Creating Enviroment: {randomname.get_name()} \\n\")\n",
    "    print(f\"Params:\",env_candidates, type(env_candidates), len(env_candidates),  env_vote_scheme, agent_vote_strategy, happiness_type, num_agents, num_strat_agents,\"\\n\")\n",
    "    print(\"#\"*100)\n",
    "    print(\"#\"*100)\n",
    "    env = Environment(\n",
    "        env_candidates, \n",
    "        env_vote_scheme, \n",
    "        agent_vote_strategy, \n",
    "        happiness_type, \n",
    "        num_agents, \n",
    "        num_strat_agents\n",
    "    )\n",
    "    env.run_tva()\n",
    " \n",
    "# running instruction            \n",
    "#    --candidates 'c1' 'c2' 'c3' 'c4' --scheme 'borda' --strategy 'compromising' --num_agents 5 --num_strat_agents 2"
   ]
  },
  {
   "cell_type": "code",
   "execution_count": null,
   "metadata": {},
   "outputs": [],
   "source": []
  }
 ],
 "metadata": {
  "kernelspec": {
   "display_name": "TA_data_analysis",
   "language": "python",
   "name": "python3"
  },
  "language_info": {
   "codemirror_mode": {
    "name": "ipython",
    "version": 3
   },
   "file_extension": ".py",
   "mimetype": "text/x-python",
   "name": "python",
   "nbconvert_exporter": "python",
   "pygments_lexer": "ipython3",
   "version": "3.12.1"
  }
 },
 "nbformat": 4,
 "nbformat_minor": 2
}
